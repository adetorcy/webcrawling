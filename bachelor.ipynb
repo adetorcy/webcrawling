{
 "cells": [
  {
   "cell_type": "markdown",
   "id": "9ad770d4-8c1a-4baf-ae7d-faa3941f1d6c",
   "metadata": {},
   "source": [
    "### For reference\n",
    "\n",
    "- [Python Requests](https://requests.readthedocs.io/en/latest/)\n",
    "- [Beautiful Soup](https://www.crummy.com/software/BeautifulSoup/bs4/doc/)\n",
    "- [SQLAlchemy](https://docs.sqlalchemy.org/en/20/index.html)\n",
    "- [Selenium](https://www.selenium.dev/), [selenium-python](https://selenium-python.readthedocs.io/)\n",
    "- [Bachelor Cast](https://abc.com/shows/the-bachelor/cast)"
   ]
  },
  {
   "cell_type": "code",
   "execution_count": null,
   "id": "828376b4-d1d5-434b-86d5-77c76f41724e",
   "metadata": {
    "tags": []
   },
   "outputs": [],
   "source": [
    "MAIN_URL = \"https://abc.com/shows/the-bachelor/cast\""
   ]
  },
  {
   "cell_type": "markdown",
   "id": "2b0c9e6e-7770-4292-9185-b1cf3690a560",
   "metadata": {},
   "source": [
    "### What do we want?"
   ]
  },
  {
   "cell_type": "markdown",
   "id": "66244d66-e51e-4528-a412-5df080a18d6e",
   "metadata": {},
   "source": [
    "#### Prepare data structure for results"
   ]
  },
  {
   "cell_type": "code",
   "execution_count": null,
   "id": "76a122d2-18c6-4b34-a90c-98603dfe58da",
   "metadata": {
    "tags": []
   },
   "outputs": [],
   "source": [
    "# Use dictionary or dataclass here (don't overthink it)\n",
    "# Choose a data structure according to what you'll do with the data\n",
    "from dataclasses import dataclass\n",
    "from typing import Literal, Optional\n",
    "from pathlib import Path\n",
    "\n",
    "@dataclass\n",
    "class CastMember:\n",
    "    name: str\n",
    "    age: int\n",
    "    occupation: str\n",
    "    bio: str\n",
    "    hometown: str\n",
    "    state: str\n",
    "    country: str = \"USA\"\n",
    "    role: Literal[\"contestant\", \"bachelor\", \"host\"] = \"contestant\"  # If we want the whole cast\n",
    "    photo: Optional[str] = None  # url\n",
    "    page: str = MAIN_URL  # web page on ABC's website\n",
    "\n",
    "# Where we'll store pictures\n",
    "IMG_DIR = Path(\"./img\")\n",
    "IMG_DIR.mkdir(exist_ok=True)"
   ]
  },
  {
   "cell_type": "markdown",
   "id": "4fa12b84-0e63-4d94-9ac8-552579c95024",
   "metadata": {},
   "source": [
    "#### Convenience utlities (for later)"
   ]
  },
  {
   "cell_type": "code",
   "execution_count": null,
   "id": "6640657a-d266-473e-9628-0198ff90421a",
   "metadata": {
    "tags": []
   },
   "outputs": [],
   "source": [
    "import shutil\n",
    "from dataclasses import asdict\n",
    "from pprint import pprint\n",
    "\n",
    "import requests\n",
    "\n",
    "\n",
    "def print_cast_member(member):\n",
    "    pprint(asdict(member), sort_dicts=False)\n",
    "\n",
    "\n",
    "# Simple wrapper around requests.get() to print http status code\n",
    "def get_url(*args, **kwargs) -> requests.Response:\n",
    "    response = requests.get(*args, **kwargs)\n",
    "    \n",
    "    print(response.request.method, response.request.url)\n",
    "    print(response.status_code, response.reason)\n",
    "    \n",
    "    return response\n",
    "\n",
    "\n",
    "# If we want to download images\n",
    "def download_file(url: str, dest: str):\n",
    "    with requests.get(url, stream=True) as response:\n",
    "        with Path(dest).open(mode=\"wb\") as f:\n",
    "            shutil.copyfileobj(response.raw, f)"
   ]
  },
  {
   "cell_type": "markdown",
   "id": "5001e3e4-e465-4eca-b27b-27a592589609",
   "metadata": {},
   "source": [
    "### Inspect page manually\n",
    "* One div element with class `tilegroup--castlist`\n",
    "* For each cast member an anchor element with class `tile--person`\n",
    "* Watch the scope of variables in your cells. Try to use unique global names to avoid surprises."
   ]
  },
  {
   "cell_type": "code",
   "execution_count": null,
   "id": "6e972cf0-8847-4ed6-b443-b3b818b5611e",
   "metadata": {
    "tags": []
   },
   "outputs": [],
   "source": [
    "from bs4 import BeautifulSoup\n",
    "\n",
    "# Make remote request. Can also be POST with parameters\n",
    "main_response = get_url(MAIN_URL)\n",
    "\n",
    "# Parse content of request response (page)\n",
    "main_soup = BeautifulSoup(main_response.content, \"html5lib\")"
   ]
  },
  {
   "cell_type": "markdown",
   "id": "b58d08f0-d247-484a-80f4-dbcb1385d078",
   "metadata": {},
   "source": [
    "### Find our target elements (nodes in the DOM tree)"
   ]
  },
  {
   "cell_type": "markdown",
   "id": "2f94e750-d477-43f5-b7ee-85cfc9d837c3",
   "metadata": {},
   "source": [
    "#### Find cast element"
   ]
  },
  {
   "cell_type": "code",
   "execution_count": null,
   "id": "f9b5c9ab-a7f0-4656-8d19-5630600f8cae",
   "metadata": {
    "tags": []
   },
   "outputs": [],
   "source": [
    "# Get main cast element\n",
    "cast_list = main_soup.find(\"div\", class_=\"tilegroup--castlist\")"
   ]
  },
  {
   "cell_type": "code",
   "execution_count": null,
   "id": "a739d18a-537f-4333-a011-b19fc77a78e5",
   "metadata": {
    "tags": []
   },
   "outputs": [],
   "source": [
    "# Confirm there's only one such element\n",
    "len(main_soup.find_all(\"div\", class_=\"tilegroup--castlist\"))"
   ]
  },
  {
   "cell_type": "markdown",
   "id": "289dc7de-3d4e-4851-8539-fae5bbfa1c2b",
   "metadata": {},
   "source": [
    "#### Find cast member elements"
   ]
  },
  {
   "cell_type": "code",
   "execution_count": null,
   "id": "dc811671-2b89-4253-a199-0871ecee42f1",
   "metadata": {
    "tags": []
   },
   "outputs": [],
   "source": [
    "children = list(cast_list.children)\n",
    "len(children)"
   ]
  },
  {
   "cell_type": "code",
   "execution_count": null,
   "id": "1e23332e-58e1-42a0-8988-fa2d27bda24e",
   "metadata": {
    "tags": []
   },
   "outputs": [],
   "source": [
    "persons = main_soup.find_all(\"a\", class_=\"tile--person\")"
   ]
  },
  {
   "cell_type": "code",
   "execution_count": null,
   "id": "f7198840-42de-4da6-a03a-7d23103a1201",
   "metadata": {
    "tags": []
   },
   "outputs": [],
   "source": [
    "len(persons)"
   ]
  },
  {
   "cell_type": "code",
   "execution_count": null,
   "id": "f477282b-acaf-44ac-bccb-01b176bb86b5",
   "metadata": {
    "tags": []
   },
   "outputs": [],
   "source": [
    "[person[\"aria-label\"] for person in persons]\n",
    "\n",
    "# Of course can also print each item individually\n",
    "# for person in persons:\n",
    "#     print(person[\"aria-label\"])"
   ]
  },
  {
   "cell_type": "markdown",
   "id": "1ae6aab0-64e7-4084-80db-f11a5af3b16b",
   "metadata": {},
   "source": [
    "#### Why only 15??"
   ]
  },
  {
   "cell_type": "markdown",
   "id": "224a22f3-8fdc-43f1-b6b6-118952ac4f60",
   "metadata": {},
   "source": [
    "#### Iterate over paginated results"
   ]
  },
  {
   "cell_type": "code",
   "execution_count": null,
   "id": "04bdf219-d3ee-4e97-a7c9-6852898a3033",
   "metadata": {},
   "outputs": [],
   "source": [
    "URLS = [f\"{MAIN_URL}?page={i}\" for i in range(1, 4)]\n",
    "URLS"
   ]
  },
  {
   "cell_type": "code",
   "execution_count": null,
   "id": "ad837f89-b0ce-4c14-b8b6-38a89239ba0b",
   "metadata": {
    "tags": []
   },
   "outputs": [],
   "source": [
    "def get_person_elements(url):\n",
    "    response = requests.get(url)\n",
    "    soup = BeautifulSoup(response.content, \"html5lib\")\n",
    "\n",
    "    return soup.find_all(\"a\", class_=\"tile--person\")"
   ]
  },
  {
   "cell_type": "code",
   "execution_count": null,
   "id": "ec7c6b6b-7a60-44f2-b7c8-2a0eac69b74a",
   "metadata": {
    "tags": []
   },
   "outputs": [],
   "source": [
    "persons = [person for url in URLS for person in get_person_elements(url)]"
   ]
  },
  {
   "cell_type": "code",
   "execution_count": null,
   "id": "f15de130-5d64-4a8b-929f-0dfe6e82afc3",
   "metadata": {
    "tags": []
   },
   "outputs": [],
   "source": [
    "# Confirm results\n",
    "[person[\"aria-label\"] for person in persons]"
   ]
  },
  {
   "cell_type": "code",
   "execution_count": null,
   "id": "e5429931-ecae-4831-bcee-74f72a56e972",
   "metadata": {
    "tags": []
   },
   "outputs": [],
   "source": [
    "len(persons)"
   ]
  },
  {
   "cell_type": "markdown",
   "id": "70e751f4-f95e-4e4d-9d2c-29b675be4cc4",
   "metadata": {},
   "source": [
    "### Retrieve cast member bios"
   ]
  },
  {
   "cell_type": "code",
   "execution_count": null,
   "id": "4c6a56be-7f8a-406a-9f3d-ced916ef3273",
   "metadata": {
    "tags": []
   },
   "outputs": [],
   "source": [
    "# Examine anchor href attributes\n",
    "links = [person[\"href\"] for person in persons]\n",
    "links"
   ]
  },
  {
   "cell_type": "code",
   "execution_count": null,
   "id": "1a7fb9f3-1d98-4a8a-b47f-936516908a33",
   "metadata": {
    "tags": []
   },
   "outputs": [],
   "source": [
    "# Links are root-relative urls\n",
    "# Extract root domain\n",
    "import tldextract  # overkill here but good to know\n",
    "\n",
    "base_url = \"https://\" + tldextract.extract(MAIN_URL).fqdn"
   ]
  },
  {
   "cell_type": "code",
   "execution_count": null,
   "id": "429c5659-de16-41e1-850d-738507ec653c",
   "metadata": {
    "tags": []
   },
   "outputs": [],
   "source": [
    "links = [base_url + person[\"href\"] for person in persons]\n",
    "links"
   ]
  },
  {
   "cell_type": "code",
   "execution_count": null,
   "id": "bf9cb55d-59c6-4739-b7bd-c95dc1a3bfc6",
   "metadata": {
    "tags": []
   },
   "outputs": [],
   "source": [
    "# Request and parse utility\n",
    "def get_soup(url):\n",
    "    return BeautifulSoup(get_url(url).content, \"html5lib\")"
   ]
  },
  {
   "cell_type": "markdown",
   "id": "4d29e7b6-c4d2-4ebc-bdb0-559e83dedda6",
   "metadata": {},
   "source": [
    "### Start with bachelor and host"
   ]
  },
  {
   "cell_type": "markdown",
   "id": "7f1a1574-ec83-420c-a97a-b6cfa7743356",
   "metadata": {},
   "source": [
    "#### Bachelor"
   ]
  },
  {
   "cell_type": "markdown",
   "id": "f5253af6-0642-4e13-bfcd-80d039aa2230",
   "metadata": {},
   "source": [
    "#### Inspect page manually\n",
    "* Stuff we want is inside `<section class=\"actor\">...</section>`\n",
    "* In practice you could just copy-paste here (one-off)"
   ]
  },
  {
   "cell_type": "code",
   "execution_count": null,
   "id": "88572a74-53d9-4687-bf7a-5a3773204d44",
   "metadata": {
    "tags": []
   },
   "outputs": [],
   "source": [
    "# Get our page\n",
    "bachelor_soup = get_soup(links[0])"
   ]
  },
  {
   "cell_type": "code",
   "execution_count": null,
   "id": "8343fc7f-15ac-4c2e-8c13-842f6aa54ca8",
   "metadata": {
    "tags": []
   },
   "outputs": [],
   "source": [
    "# Narrow down to our desired section\n",
    "bachelor_section = bachelor_soup.find(\"section\", class_=\"actor\")"
   ]
  },
  {
   "cell_type": "markdown",
   "id": "fa03c208-5dea-4f12-9249-aaa0bea00ea6",
   "metadata": {},
   "source": [
    "#### Get the name"
   ]
  },
  {
   "cell_type": "code",
   "execution_count": null,
   "id": "8dc370c9-119f-4042-97cb-48bd6c4e6074",
   "metadata": {
    "tags": []
   },
   "outputs": [],
   "source": [
    "bachelor_name = bachelor_section.find(\"div\", class_=\"actor__name\").string\n",
    "bachelor_name"
   ]
  },
  {
   "cell_type": "code",
   "execution_count": null,
   "id": "d855c18b-37ca-465e-8527-d6b304719163",
   "metadata": {
    "tags": []
   },
   "outputs": [],
   "source": [
    "bachelor_section.find(\"div\", class_=\"actor__bio\")"
   ]
  },
  {
   "cell_type": "markdown",
   "id": "9cce3515-5feb-486a-a124-6c3f0f982756",
   "metadata": {},
   "source": [
    "#### Get the bio"
   ]
  },
  {
   "cell_type": "code",
   "execution_count": null,
   "id": "e2ab18f4-731d-4512-a921-4ab4d3c7bc51",
   "metadata": {
    "tags": []
   },
   "outputs": [],
   "source": [
    "# Remove markup\n",
    "bachelor_bio = bachelor_section.find(\"div\", class_=\"actor__bio\").get_text()\n",
    "print(bachelor_bio)"
   ]
  },
  {
   "cell_type": "markdown",
   "id": "0da7ca79-2325-4039-865c-5446400a55cf",
   "metadata": {},
   "source": [
    "#### Get the picture"
   ]
  },
  {
   "cell_type": "code",
   "execution_count": null,
   "id": "9f55edb1-d0bb-49d2-8709-1ba7a24ed357",
   "metadata": {
    "tags": []
   },
   "outputs": [],
   "source": [
    "bachelor_section.find(\"picture\").img"
   ]
  },
  {
   "cell_type": "code",
   "execution_count": null,
   "id": "b85ecc52-4ddd-4e76-8f20-d93845ee8903",
   "metadata": {
    "tags": []
   },
   "outputs": [],
   "source": [
    "encoded_image = bachelor_section.find(\"picture\").img['src'].split('base64,')[1]\n",
    "encoded_image"
   ]
  },
  {
   "cell_type": "markdown",
   "id": "859a552d-ec3c-48ae-bc56-ba354e0cf081",
   "metadata": {},
   "source": [
    "#### What is this?..."
   ]
  },
  {
   "cell_type": "code",
   "execution_count": null,
   "id": "9368937d-f71a-4ca8-82a4-21488fd803b1",
   "metadata": {
    "tags": []
   },
   "outputs": [],
   "source": [
    "from base64 import b64decode\n",
    "\n",
    "# Local file path\n",
    "path = IMG_DIR / f\"{bachelor_name}.gif\"\n",
    "\n",
    "path.write_bytes(b64decode(encoded_image))"
   ]
  },
  {
   "cell_type": "code",
   "execution_count": null,
   "id": "e69f3674-7725-4a11-8d40-4301ceda1f10",
   "metadata": {
    "tags": []
   },
   "outputs": [],
   "source": [
    "# Nevermind, delete\n",
    "path.unlink(missing_ok=True)"
   ]
  },
  {
   "cell_type": "code",
   "execution_count": null,
   "id": "a427f368-b2b0-439f-a7f7-c964ce0e13dc",
   "metadata": {
    "tags": []
   },
   "outputs": [],
   "source": [
    "# Make new cast member, fill missing bits from bio\n",
    "bachelor = CastMember(\n",
    "    name=bachelor_name,\n",
    "    age=26,\n",
    "    occupation=\"Tech Executive\",\n",
    "    bio=bachelor_bio.strip(),  # stripping could be done in __post_init__() if we wanted to be fancy\n",
    "    hometown=\"Anaheim Hills\",\n",
    "    state=\"California\",\n",
    "    role=\"bachelor\",\n",
    "    page=links[0]\n",
    ")"
   ]
  },
  {
   "cell_type": "code",
   "execution_count": null,
   "id": "a8e558fb-2584-4ec5-b0a6-8f2c8785efe8",
   "metadata": {
    "tags": []
   },
   "outputs": [],
   "source": [
    "# Convenient access to attributes, autocomplete\n",
    "bachelor.name, bachelor.age"
   ]
  },
  {
   "cell_type": "code",
   "execution_count": null,
   "id": "be013565-6260-4e6c-9711-d09f16ec58c6",
   "metadata": {
    "tags": []
   },
   "outputs": [],
   "source": [
    "# Easy to convert to dictionary\n",
    "from dataclasses import asdict\n",
    "\n",
    "asdict(bachelor)"
   ]
  },
  {
   "cell_type": "markdown",
   "id": "ba647d44-99b7-4491-ac94-0b91c7600416",
   "metadata": {
    "tags": []
   },
   "source": [
    "#### Same with host"
   ]
  },
  {
   "cell_type": "code",
   "execution_count": null,
   "id": "fc60de65-c4cc-4095-bfbf-ae75c50a96d5",
   "metadata": {
    "tags": []
   },
   "outputs": [],
   "source": [
    "host_section = get_soup(links[1]).find(\"section\", class_=\"actor\")\n",
    "host_name = host_section.find(\"div\", class_=\"actor__name\").string\n",
    "host_bio = host_section.find(\"div\", class_=\"actor__bio\").get_text()\n",
    "\n",
    "# https://en.wikipedia.org/wiki/Jesse_Palmer\n",
    "host = CastMember(\n",
    "    name=host_name,\n",
    "    age=44,\n",
    "    occupation=\"Television Personality\",\n",
    "    bio=host_bio.strip(),\n",
    "    hometown=\"Toronto\",\n",
    "    state=\"Ontario\",\n",
    "    country=\"Canada\",\n",
    "    role=\"host\",\n",
    "    page=links[1]\n",
    ")"
   ]
  },
  {
   "cell_type": "markdown",
   "id": "0ab1e6e7-1aee-4f29-9a0e-633d3818a36b",
   "metadata": {},
   "source": [
    "### The contestants"
   ]
  },
  {
   "cell_type": "markdown",
   "id": "66898214-702d-44db-9ff3-aa061242b184",
   "metadata": {
    "tags": []
   },
   "source": [
    "#### Try the first one manually"
   ]
  },
  {
   "cell_type": "code",
   "execution_count": null,
   "id": "90eb2d26-bab2-41ac-b5a8-18c1970a0244",
   "metadata": {
    "tags": []
   },
   "outputs": [],
   "source": [
    "# generic global names for this exercise, would clean up IRL\n",
    "section = get_soup(links[2]).find(\"section\", class_=\"actor\")"
   ]
  },
  {
   "cell_type": "code",
   "execution_count": null,
   "id": "58c3ea79-855a-4319-a4e9-94610082dffc",
   "metadata": {
    "tags": []
   },
   "outputs": [],
   "source": [
    "name = section.find(\"div\", class_=\"actor__name\").string\n",
    "name"
   ]
  },
  {
   "cell_type": "code",
   "execution_count": null,
   "id": "8a4ad31e-ecb7-4205-96bd-9a499391612f",
   "metadata": {
    "tags": []
   },
   "outputs": [],
   "source": [
    "details = section.find(\"div\", class_=\"actor__description\").contents[0]\n",
    "details"
   ]
  },
  {
   "cell_type": "code",
   "execution_count": null,
   "id": "c574ded8-faf7-4319-be1b-7812abbdddca",
   "metadata": {
    "tags": []
   },
   "outputs": [],
   "source": [
    "details.contents"
   ]
  },
  {
   "cell_type": "code",
   "execution_count": null,
   "id": "04f67732-bcb4-4446-bef7-259f0da61e2c",
   "metadata": {
    "tags": []
   },
   "outputs": [],
   "source": [
    "age, _, occupation, _, home = details.contents"
   ]
  },
  {
   "cell_type": "code",
   "execution_count": null,
   "id": "8096922f-df99-45dd-b26d-5b92a0f58fb9",
   "metadata": {
    "tags": []
   },
   "outputs": [],
   "source": [
    "hometown, state = home.split(\",\")"
   ]
  },
  {
   "cell_type": "code",
   "execution_count": null,
   "id": "ea4e94ed-5f15-4895-8997-9946a9e35455",
   "metadata": {
    "tags": []
   },
   "outputs": [],
   "source": [
    "bio = section.find(\"div\", class_=\"actor__bio\").get_text()"
   ]
  },
  {
   "cell_type": "code",
   "execution_count": null,
   "id": "415bdfb8-a571-40d8-94ad-4bd5fc968060",
   "metadata": {
    "tags": []
   },
   "outputs": [],
   "source": [
    "aly = CastMember(\n",
    "    name=name,\n",
    "    age=int(age),\n",
    "    occupation=occupation.strip(),\n",
    "    bio=bio.strip(),\n",
    "    hometown=hometown.strip(),\n",
    "    state=state.strip(),\n",
    "    page=links[2]\n",
    ")"
   ]
  },
  {
   "cell_type": "code",
   "execution_count": null,
   "id": "e7531e65-5e1e-49fa-b733-539e1cf844fb",
   "metadata": {},
   "outputs": [],
   "source": [
    "print_cast_member(aly)"
   ]
  },
  {
   "cell_type": "markdown",
   "id": "f6c8edf3-8e03-4e53-bbac-2e9ea337c85f",
   "metadata": {},
   "source": [
    "#### Iterate to get everyone"
   ]
  },
  {
   "cell_type": "code",
   "execution_count": null,
   "id": "80dc8ce2-7ff5-4525-9154-709fb42ad303",
   "metadata": {
    "tags": []
   },
   "outputs": [],
   "source": [
    "# Prepare the list\n",
    "CAST = [bachelor, host]"
   ]
  },
  {
   "cell_type": "code",
   "execution_count": null,
   "id": "53615406-e6d8-4db1-968e-ac1cef95b381",
   "metadata": {
    "tags": []
   },
   "outputs": [],
   "source": [
    "for link in links[2:]:\n",
    "    # Copy paste from above\n",
    "    section = get_soup(link).find(\"section\", class_=\"actor\")\n",
    "    name = section.find(\"div\", class_=\"actor__name\").string\n",
    "    details = section.find(\"div\", class_=\"actor__description\").contents[0]\n",
    "    bio = section.find(\"div\", class_=\"actor__bio\").get_text()\n",
    "    \n",
    "    age, _, occupation, _, home = details.contents\n",
    "    \n",
    "    hometown, state = home.split(\",\")\n",
    "    \n",
    "    CAST.append(\n",
    "        CastMember(\n",
    "            name=name.strip(),\n",
    "            age=int(age),\n",
    "            occupation=occupation.strip(),\n",
    "            bio=bio.strip(),\n",
    "            hometown=hometown.strip(),\n",
    "            state=state.strip(),\n",
    "            page=link\n",
    "        )\n",
    "    )"
   ]
  },
  {
   "cell_type": "code",
   "execution_count": null,
   "id": "6f311f5a-c0cc-4f28-9a1a-749e2897f641",
   "metadata": {
    "tags": []
   },
   "outputs": [],
   "source": [
    "len(CAST)"
   ]
  },
  {
   "cell_type": "markdown",
   "id": "297eb9d6-7860-4fd5-b29b-0a08ecdb37ad",
   "metadata": {},
   "source": [
    "### Check our results"
   ]
  },
  {
   "cell_type": "code",
   "execution_count": null,
   "id": "4363132e-6b1d-4f01-800d-6350cc317bc8",
   "metadata": {
    "tags": []
   },
   "outputs": [],
   "source": [
    "# Table formatting is just for looks\n",
    "from prettytable import PrettyTable\n",
    "table = PrettyTable()\n",
    "\n",
    "table.field_names = [\"Name\", \"Age\", \"Hometown\"]\n",
    "table.add_rows([[member.name, member.age, f\"{member.hometown}, {member.state}\"] for member in CAST])\n",
    "\n",
    "print(table)"
   ]
  },
  {
   "cell_type": "markdown",
   "id": "5f3a27c3-b5d2-4bc6-9415-9a8d7fdfa4a5",
   "metadata": {},
   "source": [
    "### Now try to get the pics"
   ]
  },
  {
   "cell_type": "markdown",
   "id": "9b821868-5230-49cb-8dfe-6b8df7e11be0",
   "metadata": {},
   "source": [
    "#### Set up selenium"
   ]
  },
  {
   "cell_type": "code",
   "execution_count": null,
   "id": "0f04fa76-7ba4-4812-812a-5bfd0fd17d5b",
   "metadata": {},
   "outputs": [],
   "source": [
    "from selenium import webdriver\n",
    "from selenium.webdriver.chrome.options import Options\n",
    "from selenium.webdriver.chrome.service import Service as ChromeService\n",
    "from selenium.webdriver.common.by import By\n",
    "from selenium.webdriver.support.wait import WebDriverWait\n",
    "from selenium.webdriver.support import expected_conditions as EC\n",
    "from webdriver_manager.chrome import ChromeDriverManager"
   ]
  },
  {
   "cell_type": "markdown",
   "id": "27ff38c6-d090-46ab-87b1-ec0cc2998319",
   "metadata": {},
   "source": [
    "#### Try it on Zach first\n",
    "\n",
    "- https://selenium-python.readthedocs.io/waits.html\n",
    "- https://selenium-python.readthedocs.io/locating-elements.html#locating-by-xpath"
   ]
  },
  {
   "cell_type": "code",
   "execution_count": null,
   "id": "543b096b-c4d5-4a3c-acbf-1957d45eba26",
   "metadata": {
    "tags": []
   },
   "outputs": [],
   "source": [
    "# Zach's page\n",
    "url = CAST[0].page\n",
    "\n",
    "# Options for our browser\n",
    "options = Options()\n",
    "options.add_argument(\"--incognito\")\n",
    "options.add_argument(\"--headless\")\n",
    "\n",
    "# Create a web driver\n",
    "driver = webdriver.Chrome(service=ChromeService(ChromeDriverManager().install()), options=options)\n",
    "\n",
    "# Get Zach's page\n",
    "driver.get(url)\n",
    "print(driver.title)\n",
    "\n",
    "# How we locate our image element on the page\n",
    "xpath = \"//picture/img[@alt='Zach Shallcross']\"\n",
    "\n",
    "# Wait for our image element to be updated by JS\n",
    "element = WebDriverWait(driver, 5).until(\n",
    "    EC.text_to_be_present_in_element_attribute((By.XPATH, xpath), \"src\", \".jpg\")\n",
    ")\n",
    "\n",
    "# KISS version of this could be:\n",
    "# import time\n",
    "# time.sleep(5)  # JS runs while python sleeps\n",
    "# pic = driver.find_element(By.TAG_NAME, \"picture\")\n",
    "# img = pic.find_element(By.TAG_NAME, \"img\")\n",
    "\n",
    "# Access our image and confirm source\n",
    "img = driver.find_element(By.XPATH, xpath)\n",
    "print(img.get_attribute(\"src\"))\n",
    "\n",
    "# Close browser session\n",
    "driver.quit()"
   ]
  },
  {
   "cell_type": "markdown",
   "id": "cce33d0a-ce1b-4cfd-aae7-a770592ffbdb",
   "metadata": {},
   "source": [
    "#### Now for everyone"
   ]
  },
  {
   "cell_type": "code",
   "execution_count": null,
   "id": "9f01cfaa-7aed-490b-b202-7bf35f1b1648",
   "metadata": {},
   "outputs": [],
   "source": [
    "# Take our code above and put it in a function\n",
    "def get_cast_member_photo(member: CastMember) -> str:\n",
    "    try:\n",
    "        # Options for our browser\n",
    "        options = Options()\n",
    "        options.add_argument(\"--incognito\")\n",
    "        options.add_argument(\"--headless\")\n",
    "\n",
    "        # Create a web driver\n",
    "        driver = webdriver.Chrome(service=ChromeService(ChromeDriverManager().install()), options=options)\n",
    "\n",
    "        # Get the page\n",
    "        driver.get(member.page)\n",
    "\n",
    "        # How we locate our image element on the page\n",
    "        xpath = f\"//picture/img[@alt='{member.name}']\"\n",
    "\n",
    "        # Wait for our image element to be updated by JS\n",
    "        element = WebDriverWait(driver, 5).until(\n",
    "            EC.text_to_be_present_in_element_attribute((By.XPATH, xpath), \"src\", \".jpg\")\n",
    "        )\n",
    "\n",
    "        # Access our image\n",
    "        img = driver.find_element(By.XPATH, xpath)\n",
    "        img_link = img.get_attribute(\"src\")\n",
    "\n",
    "        # Where we'll store our image locally\n",
    "        local_path = f\"./img/{member.name}.jpg\"\n",
    "\n",
    "        # Download the image\n",
    "        download_file(img_link, local_path)\n",
    "        \n",
    "        # Update cast member\n",
    "        member.photo = local_path\n",
    "\n",
    "        # Show success \n",
    "        print(f\"Done extracting photo for {member.name}: {img_link}\")\n",
    "\n",
    "    except:\n",
    "        # Show error\n",
    "        print(f\"Unable to extract photo for {member.name}\")\n",
    "        raise\n",
    "\n",
    "    finally:\n",
    "        # Close browser session\n",
    "        driver.quit()"
   ]
  },
  {
   "cell_type": "markdown",
   "id": "3d5ac04a-4f8e-496d-979a-c9895076f815",
   "metadata": {},
   "source": [
    "#### Parallel I/O\n",
    "- https://docs.python.org/3/library/concurrent.futures.html#module-concurrent.futures"
   ]
  },
  {
   "cell_type": "code",
   "execution_count": null,
   "id": "98624dc3-3ed4-4242-bd0e-510c79a0e07d",
   "metadata": {
    "tags": []
   },
   "outputs": [],
   "source": [
    "import os\n",
    "\n",
    "# Limited resources on mybinder\n",
    "MAX_THREADS = 1 if os.getenv('BINDER_LAUNCH_HOST') == 'https://mybinder.org/' else None"
   ]
  },
  {
   "cell_type": "code",
   "execution_count": null,
   "id": "fd197853-130b-4f18-8ef0-e2dc5156de81",
   "metadata": {
    "tags": []
   },
   "outputs": [],
   "source": [
    "from concurrent.futures import ThreadPoolExecutor\n",
    "\n",
    "with ThreadPoolExecutor(max_workers=MAX_THREADS) as executor:\n",
    "    for member in CAST:\n",
    "        print(f\"submitting job for {member.name}\")\n",
    "        \n",
    "        executor.submit(get_cast_member_photo, member)"
   ]
  },
  {
   "cell_type": "markdown",
   "id": "b6f607d4-15d6-43ce-9cc5-f3fc31f2b52b",
   "metadata": {},
   "source": [
    "#### Why errors??\n",
    "\n",
    "- Inspect pages with errors...\n",
    "- Looks like we need to tweak our xpath expression\n",
    "- https://devhints.io/xpath#string-functions"
   ]
  },
  {
   "cell_type": "markdown",
   "id": "55dd3531-3cb8-47ae-9eb0-539e19257cf7",
   "metadata": {},
   "source": [
    "#### Try again with our updated code"
   ]
  },
  {
   "cell_type": "code",
   "execution_count": null,
   "id": "5113f0bd-4fec-4959-b0ec-e60013be2818",
   "metadata": {},
   "outputs": [],
   "source": [
    "# Modify our function slightly (only the xpath line)\n",
    "def get_cast_member_photo(member: CastMember) -> str:\n",
    "    try:\n",
    "        # Options for our browser\n",
    "        options = Options()\n",
    "        options.add_argument(\"--incognito\")\n",
    "        options.add_argument(\"--headless\")\n",
    "\n",
    "        # Create a web driver\n",
    "        driver = webdriver.Chrome(service=ChromeService(ChromeDriverManager().install()), options=options)\n",
    "\n",
    "        # Get the page\n",
    "        driver.get(member.page)\n",
    "\n",
    "        # How we locate our image element on the page\n",
    "        xpath = f\"//picture/img[starts-with(@alt, '{member.name}')]\"\n",
    "\n",
    "        # Wait for our image element to be updated by JS\n",
    "        element = WebDriverWait(driver, 5).until(\n",
    "            EC.text_to_be_present_in_element_attribute((By.XPATH, xpath), \"src\", \".jpg\")\n",
    "        )\n",
    "\n",
    "        # Access our image\n",
    "        img = driver.find_element(By.XPATH, xpath)\n",
    "        img_link = img.get_attribute(\"src\")\n",
    "\n",
    "        # Where we'll store our image locally\n",
    "        local_path = f\"./img/{member.name}.jpg\"\n",
    "\n",
    "        # Download the image\n",
    "        download_file(img_link, local_path)\n",
    "        \n",
    "        # Update cast member\n",
    "        member.photo = local_path\n",
    "\n",
    "        # Show success \n",
    "        print(f\"Done extracting photo for {member.name}: {img_link}\")\n",
    "\n",
    "    except:\n",
    "        # Show error\n",
    "        print(f\"Unable to extract photo for {member.name}\")\n",
    "        raise\n",
    "\n",
    "    finally:\n",
    "        # Close browser session\n",
    "        driver.quit()"
   ]
  },
  {
   "cell_type": "code",
   "execution_count": null,
   "id": "b432a1a1-566e-4374-a1e3-3ae18b298ee8",
   "metadata": {},
   "outputs": [],
   "source": [
    "with ThreadPoolExecutor(max_workers=MAX_THREADS) as executor:\n",
    "    for member in CAST:\n",
    "        # Only those with missing photo\n",
    "        if not member.photo:\n",
    "            print(f\"submitting job for {member.name}\")\n",
    "\n",
    "            executor.submit(get_cast_member_photo, member)"
   ]
  },
  {
   "cell_type": "markdown",
   "id": "9fca1a47-4bf3-43c8-9284-629942b15dbf",
   "metadata": {},
   "source": [
    "#### Display our results"
   ]
  },
  {
   "cell_type": "code",
   "execution_count": null,
   "id": "81603077-b4de-491d-9465-431789a8c967",
   "metadata": {
    "tags": []
   },
   "outputs": [],
   "source": [
    "# HTML rendering is completely optional\n",
    "from IPython.display import display_html\n",
    "\n",
    "styling = \"\"\"\n",
    "<style>\n",
    ".container {\n",
    "    display: grid;\n",
    "    grid-template-columns: repeat(4, 1fr);\n",
    "    gap: 40px 20px;\n",
    "}\n",
    ".info {\n",
    "    grid-column: 1;\n",
    "    display: flex;\n",
    "    flex-direction: column;\n",
    "    align-items: center;\n",
    "}\n",
    ".bio {\n",
    "    grid-column: 2/5;\n",
    "}\n",
    ".name {\n",
    "    font-weight: bold;\n",
    "}\n",
    "</style>\n",
    "\"\"\"\n",
    "\n",
    "rows = [\n",
    "    '''\n",
    "    <div class=\"info\">\n",
    "        <img src=\"{photo}\" />\n",
    "        <div class=\"name\">{name}</div>\n",
    "        <div>{age}</div>\n",
    "        <div>{hometown}, {state}</div>\n",
    "    </div>\n",
    "    <div class=\"bio\">\n",
    "        {bio}\n",
    "    </div>\n",
    "    '''.format(**asdict(member)) for member in CAST]\n",
    "\n",
    "\n",
    "html = styling + '''<div class=\"container\">''' + \"\".join(rows) + \"</div>\"\n",
    "\n",
    "display_html(html, raw=True)"
   ]
  },
  {
   "cell_type": "markdown",
   "id": "0e56d0bd-8b0a-4f59-86ad-45b688fbe2de",
   "metadata": {},
   "source": [
    "### Store results in database"
   ]
  },
  {
   "cell_type": "code",
   "execution_count": null,
   "id": "2813991b-39a4-44cc-a539-d2c19d767c97",
   "metadata": {
    "tags": []
   },
   "outputs": [],
   "source": [
    "from pathlib import Path\n",
    "\n",
    "db_filename = \"bachelor.sqlite3\"\n",
    "\n",
    "Path(db_filename).unlink(missing_ok=True)"
   ]
  },
  {
   "cell_type": "code",
   "execution_count": null,
   "id": "809ebb76-2bf9-42b2-9555-fe1c67547407",
   "metadata": {},
   "outputs": [],
   "source": [
    "from sqlalchemy import create_engine\n",
    "from sqlalchemy.orm import DeclarativeBase, Mapped, mapped_column, Session\n",
    "\n",
    "\n",
    "engine = create_engine(f\"sqlite:///{db_filename}\", echo=False)\n",
    "\n",
    "\n",
    "class Base(DeclarativeBase):\n",
    "    pass"
   ]
  },
  {
   "cell_type": "code",
   "execution_count": null,
   "id": "af3225e4-31fd-4e50-a263-92d4c7607f39",
   "metadata": {
    "tags": []
   },
   "outputs": [],
   "source": [
    "# Declarative style similar to dataclass\n",
    "class Member(Base):\n",
    "    __tablename__ = \"cast_member\"\n",
    "    \n",
    "    id: Mapped[int] = mapped_column(primary_key=True)\n",
    "\n",
    "    name: Mapped[str]\n",
    "    age: Mapped[int]\n",
    "    occupation: Mapped[str]\n",
    "    bio: Mapped[str]\n",
    "    hometown: Mapped[str]\n",
    "    state: Mapped[str]\n",
    "    country: Mapped[str] = mapped_column(default=\"USA\")  # defaults are not necessary here since we've defined them in our dataclass\n",
    "    role: Mapped[str] = mapped_column(default=\"contestant\")\n",
    "    photo: Mapped[Optional[str]]\n",
    "    page: Mapped[str]"
   ]
  },
  {
   "cell_type": "code",
   "execution_count": null,
   "id": "66d5aef4-415f-4cd0-9ba2-4c65c8ace993",
   "metadata": {
    "tags": []
   },
   "outputs": [],
   "source": [
    "Base.metadata.create_all(engine)"
   ]
  },
  {
   "cell_type": "code",
   "execution_count": null,
   "id": "a23108cd-30dc-4119-a545-6418732656c4",
   "metadata": {
    "tags": []
   },
   "outputs": [],
   "source": [
    "with Session(engine) as session:\n",
    "    session.add_all([Member(**asdict(member)) for member in CAST])\n",
    "    \n",
    "    session.commit()"
   ]
  },
  {
   "cell_type": "markdown",
   "id": "73d5a9cb-0d60-4d11-91cc-282a006b7b18",
   "metadata": {},
   "source": [
    "#### We can now query our DB"
   ]
  },
  {
   "cell_type": "code",
   "execution_count": null,
   "id": "ed4bc172-28a9-4da6-a73d-58890620a985",
   "metadata": {
    "tags": []
   },
   "outputs": [],
   "source": [
    "!sqlite3 {db_filename} \".tables\""
   ]
  },
  {
   "cell_type": "code",
   "execution_count": null,
   "id": "fed7c408-cf71-4ac3-a9b8-65845d2e5385",
   "metadata": {
    "tags": []
   },
   "outputs": [],
   "source": [
    "# Contestants' names\n",
    "!sqlite3 {db_filename} \"select name from cast_member where role = 'contestant'\""
   ]
  },
  {
   "cell_type": "code",
   "execution_count": null,
   "id": "5c44cbf6-326c-439e-9e8b-15312fe694ba",
   "metadata": {
    "tags": []
   },
   "outputs": [],
   "source": [
    "# Anyone over 30?\n",
    "!sqlite3 {db_filename} \"select name, age from cast_member where role = 'contestant' and age >= 30\""
   ]
  },
  {
   "cell_type": "code",
   "execution_count": null,
   "id": "de632f06-d813-467e-bb68-7d646dec4ffc",
   "metadata": {
    "tags": []
   },
   "outputs": [],
   "source": [
    "# Where is everyone from?\n",
    "!sqlite3 {db_filename} \"select state, count(id) as total from cast_member where role = 'contestant' group by state order by total desc\""
   ]
  },
  {
   "cell_type": "markdown",
   "id": "9978d1f5-816d-48a3-8577-a850f0083a1c",
   "metadata": {},
   "source": [
    "#### Or we can use the ORM"
   ]
  },
  {
   "cell_type": "code",
   "execution_count": null,
   "id": "0bd7c4f2-5b7a-4c1c-9230-3e1d1d0f5d0b",
   "metadata": {
    "tags": []
   },
   "outputs": [],
   "source": [
    "from sqlalchemy import select, func, desc, and_\n",
    "\n",
    "# Create a query\n",
    "query = select(Member).where(\n",
    "    and_(\n",
    "        Member.age >= 30,\n",
    "        Member.role == \"contestant\"\n",
    "    )\n",
    ")\n",
    "\n",
    "# Printing it shows the SQL\n",
    "print(query)"
   ]
  },
  {
   "cell_type": "code",
   "execution_count": null,
   "id": "ca84f16b-2bc5-4eeb-a2a0-cba129baf905",
   "metadata": {},
   "outputs": [],
   "source": [
    "# Run the query (note that we use scalars here, see https://blog.miguelgrinberg.com/post/what-s-new-in-sqlalchemy-2-0)\n",
    "for member in session.scalars(query):\n",
    "    print(member.name, member.age)"
   ]
  },
  {
   "cell_type": "code",
   "execution_count": null,
   "id": "c20af9a9-bcf4-4b93-b1a6-86b088381d6b",
   "metadata": {},
   "outputs": [],
   "source": [
    "# Home states query (extra parentheses for multiline statement)\n",
    "query = (\n",
    "    select(\n",
    "        Member.state, func.count(Member.id).label(\"total\"))\n",
    "            .where(Member.role == \"contestant\")\n",
    "            .group_by(Member.state)\n",
    "            .order_by(desc(\"total\"))\n",
    ")\n",
    "\n",
    "print(query)"
   ]
  },
  {
   "cell_type": "code",
   "execution_count": null,
   "id": "3140af71-e919-4884-9781-eea8dbabe7a5",
   "metadata": {
    "tags": []
   },
   "outputs": [],
   "source": [
    "# Run our query (results are tuples)\n",
    "for result in session.execute(query):\n",
    "    print(result)"
   ]
  }
 ],
 "metadata": {
  "kernelspec": {
   "display_name": "Python 3 (ipykernel)",
   "language": "python",
   "name": "python3"
  },
  "language_info": {
   "codemirror_mode": {
    "name": "ipython",
    "version": 3
   },
   "file_extension": ".py",
   "mimetype": "text/x-python",
   "name": "python",
   "nbconvert_exporter": "python",
   "pygments_lexer": "ipython3",
   "version": "3.9.7"
  },
  "toc-autonumbering": false,
  "toc-showcode": false,
  "toc-showmarkdowntxt": true
 },
 "nbformat": 4,
 "nbformat_minor": 5
}
